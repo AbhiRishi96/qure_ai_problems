{
  "nbformat": 4,
  "nbformat_minor": 0,
  "metadata": {
    "colab": {
      "provenance": [],
      "mount_file_id": "1wzyFUEiKolvQV1IQsMTPvaV4k4ZAoDgP",
      "authorship_tag": "ABX9TyPwqf3ZyE8VmEaYO8CuQ+5S",
      "include_colab_link": true
    },
    "kernelspec": {
      "name": "python3",
      "display_name": "Python 3"
    },
    "language_info": {
      "name": "python"
    }
  },
  "cells": [
    {
      "cell_type": "markdown",
      "metadata": {
        "id": "view-in-github",
        "colab_type": "text"
      },
      "source": [
        "<a href=\"https://colab.research.google.com/github/AbhiRishi96/qure_ai_problems/blob/main/qure_ai_problem_1.ipynb\" target=\"_parent\"><img src=\"https://colab.research.google.com/assets/colab-badge.svg\" alt=\"Open In Colab\"/></a>"
      ]
    },
    {
      "cell_type": "code",
      "source": [
        "pip install pydicom"
      ],
      "metadata": {
        "colab": {
          "base_uri": "https://localhost:8080/"
        },
        "id": "HBlob4arht4R",
        "outputId": "043527e0-d74c-4380-fe3a-855ae3355b0c"
      },
      "execution_count": 1,
      "outputs": [
        {
          "output_type": "stream",
          "name": "stdout",
          "text": [
            "Looking in indexes: https://pypi.org/simple, https://us-python.pkg.dev/colab-wheels/public/simple/\n",
            "Requirement already satisfied: pydicom in /usr/local/lib/python3.8/dist-packages (2.3.1)\n"
          ]
        }
      ]
    },
    {
      "cell_type": "code",
      "source": [
        "pip install pylibjpeg-libjpeg"
      ],
      "metadata": {
        "colab": {
          "base_uri": "https://localhost:8080/"
        },
        "id": "hF5JoUTQmXpG",
        "outputId": "5b0fbc9e-e438-4764-d664-4a1f32905c56"
      },
      "execution_count": 2,
      "outputs": [
        {
          "output_type": "stream",
          "name": "stdout",
          "text": [
            "Looking in indexes: https://pypi.org/simple, https://us-python.pkg.dev/colab-wheels/public/simple/\n",
            "Requirement already satisfied: pylibjpeg-libjpeg in /usr/local/lib/python3.8/dist-packages (1.3.2)\n",
            "Requirement already satisfied: numpy>=1.22 in /usr/local/lib/python3.8/dist-packages (from pylibjpeg-libjpeg) (1.24.0)\n"
          ]
        }
      ]
    },
    {
      "cell_type": "code",
      "source": [
        "pip install python-gdcm"
      ],
      "metadata": {
        "colab": {
          "base_uri": "https://localhost:8080/"
        },
        "id": "kVGbnUY-msuC",
        "outputId": "350f3b49-0d5f-445c-f803-7a6551e8864e"
      },
      "execution_count": 3,
      "outputs": [
        {
          "output_type": "stream",
          "name": "stdout",
          "text": [
            "Looking in indexes: https://pypi.org/simple, https://us-python.pkg.dev/colab-wheels/public/simple/\n",
            "Requirement already satisfied: python-gdcm in /usr/local/lib/python3.8/dist-packages (3.0.20)\n"
          ]
        }
      ]
    },
    {
      "cell_type": "code",
      "source": [
        "pip install pylibjpeg"
      ],
      "metadata": {
        "colab": {
          "base_uri": "https://localhost:8080/"
        },
        "id": "N775CcAom3xA",
        "outputId": "95a19c2e-7ea3-485c-c808-977a0bf3e6d0"
      },
      "execution_count": 4,
      "outputs": [
        {
          "output_type": "stream",
          "name": "stdout",
          "text": [
            "Looking in indexes: https://pypi.org/simple, https://us-python.pkg.dev/colab-wheels/public/simple/\n",
            "Requirement already satisfied: pylibjpeg in /usr/local/lib/python3.8/dist-packages (1.4.0)\n",
            "Requirement already satisfied: numpy in /usr/local/lib/python3.8/dist-packages (from pylibjpeg) (1.24.0)\n"
          ]
        }
      ]
    },
    {
      "cell_type": "code",
      "source": [
        "import numpy as np\n",
        "import pydicom as dicom\n",
        "from PIL import Image\n",
        "import os"
      ],
      "metadata": {
        "id": "ryaZnFvN_C-e"
      },
      "execution_count": 5,
      "outputs": []
    },
    {
      "cell_type": "code",
      "source": [
        "path = '/content/drive/MyDrive/Qure_ai/assignment_dcms/'\n",
        "output_path = '/content/drive/MyDrive/Qure_ai/assignment_dcms/output/'"
      ],
      "metadata": {
        "id": "CqjyRUjGlazY"
      },
      "execution_count": 6,
      "outputs": []
    },
    {
      "cell_type": "code",
      "source": [
        "def convert(directory):\n",
        "    im = dicom.dcmread(path + directory)\n",
        "    im = im.pixel_array.astype(float)\n",
        "    rescaled_image = (np.maximum(im,0)/im.max())*255\n",
        "    final_image = np.uint8(rescaled_image)\n",
        "    final_image = Image.fromarray(final_image)\n",
        "    return final_image"
      ],
      "metadata": {
        "id": "1pRWGc2hiPQK"
      },
      "execution_count": 10,
      "outputs": []
    },
    {
      "cell_type": "code",
      "source": [
        "ct_images = os.listdir(path)\n",
        "arr_filename = [x for x in ct_images]"
      ],
      "metadata": {
        "id": "JiwsTDbIh0eZ"
      },
      "execution_count": 11,
      "outputs": []
    },
    {
      "cell_type": "code",
      "source": [
        "for name in arr_filename:\n",
        "    image = convert(name)\n",
        "    image.save(output_path + name + '.jpg')"
      ],
      "metadata": {
        "id": "Nk1Tyzy1iH-e"
      },
      "execution_count": null,
      "outputs": []
    }
  ]
}
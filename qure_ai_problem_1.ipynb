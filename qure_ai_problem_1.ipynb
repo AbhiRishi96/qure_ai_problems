{
  "nbformat": 4,
  "nbformat_minor": 0,
  "metadata": {
    "colab": {
      "provenance": [],
      "mount_file_id": "1wzyFUEiKolvQV1IQsMTPvaV4k4ZAoDgP",
      "authorship_tag": "ABX9TyMtMndfD+/Kfyr3BuUfWM17",
      "include_colab_link": true
    },
    "kernelspec": {
      "name": "python3",
      "display_name": "Python 3"
    },
    "language_info": {
      "name": "python"
    }
  },
  "cells": [
    {
      "cell_type": "markdown",
      "metadata": {
        "id": "view-in-github",
        "colab_type": "text"
      },
      "source": [
        "<a href=\"https://colab.research.google.com/github/AbhiRishi96/qure_ai_problems/blob/main/qure_ai_problem_1.ipynb\" target=\"_parent\"><img src=\"https://colab.research.google.com/assets/colab-badge.svg\" alt=\"Open In Colab\"/></a>"
      ]
    },
    {
      "cell_type": "markdown",
      "source": [
        "## INSTALL REQUIRED LIBRARIES"
      ],
      "metadata": {
        "id": "_ZY9wVd_imJO"
      }
    },
    {
      "cell_type": "code",
      "source": [
        "!pip install pydicom\n",
        "!pip install pylibjpeg-libjpeg\n",
        "!pip install python-gdcm\n",
        "!pip install pylibjpeg"
      ],
      "metadata": {
        "colab": {
          "base_uri": "https://localhost:8080/"
        },
        "id": "HBlob4arht4R",
        "outputId": "6b9dc9d2-c272-4b63-d25d-dfc4cb1b76e5"
      },
      "execution_count": 16,
      "outputs": [
        {
          "output_type": "stream",
          "name": "stdout",
          "text": [
            "Looking in indexes: https://pypi.org/simple, https://us-python.pkg.dev/colab-wheels/public/simple/\n",
            "Requirement already satisfied: pydicom in /usr/local/lib/python3.8/dist-packages (2.3.1)\n",
            "Looking in indexes: https://pypi.org/simple, https://us-python.pkg.dev/colab-wheels/public/simple/\n",
            "Requirement already satisfied: pylibjpeg-libjpeg in /usr/local/lib/python3.8/dist-packages (1.3.2)\n",
            "Requirement already satisfied: numpy>=1.22 in /usr/local/lib/python3.8/dist-packages (from pylibjpeg-libjpeg) (1.24.0)\n",
            "Looking in indexes: https://pypi.org/simple, https://us-python.pkg.dev/colab-wheels/public/simple/\n",
            "Requirement already satisfied: python-gdcm in /usr/local/lib/python3.8/dist-packages (3.0.20)\n",
            "Looking in indexes: https://pypi.org/simple, https://us-python.pkg.dev/colab-wheels/public/simple/\n",
            "Requirement already satisfied: pylibjpeg in /usr/local/lib/python3.8/dist-packages (1.4.0)\n",
            "Requirement already satisfied: numpy in /usr/local/lib/python3.8/dist-packages (from pylibjpeg) (1.24.0)\n"
          ]
        }
      ]
    },
    {
      "cell_type": "markdown",
      "source": [
        "## IMPORT REQUIRED LIBRARIES & PROVIDING INPUT/OUTPUT PATHS"
      ],
      "metadata": {
        "id": "acNaAUsMjJ4Q"
      }
    },
    {
      "cell_type": "code",
      "source": [
        "import numpy as np\n",
        "import pydicom as dicom\n",
        "from PIL import Image\n",
        "import pandas as pd\n",
        "import os"
      ],
      "metadata": {
        "id": "ryaZnFvN_C-e"
      },
      "execution_count": 18,
      "outputs": []
    },
    {
      "cell_type": "code",
      "source": [
        "source_path = '/content/drive/MyDrive/Qure_ai/Question1/assignment_dcms/'\n",
        "output_path_jpg = '/content/drive/MyDrive/Qure_ai/Question1/converted_images/'\n",
        "output_path_metadata = '/content/drive/MyDrive/Qure_ai/Question1/metadata/'"
      ],
      "metadata": {
        "id": "CqjyRUjGlazY"
      },
      "execution_count": 19,
      "outputs": []
    },
    {
      "cell_type": "markdown",
      "source": [
        "#### Loading names of all dicom files into list"
      ],
      "metadata": {
        "id": "jBS37fo1n5Gq"
      }
    },
    {
      "cell_type": "code",
      "source": [
        "dicom_images = os.listdir(source_path)\n",
        "lst_filename = [x for x in dicom_images]"
      ],
      "metadata": {
        "id": "JiwsTDbIh0eZ"
      },
      "execution_count": 20,
      "outputs": []
    },
    {
      "cell_type": "markdown",
      "source": [
        "## EXTRACT IMAGE FROM DICOM"
      ],
      "metadata": {
        "id": "eGfxhGwmlZn0"
      }
    },
    {
      "cell_type": "code",
      "source": [
        "def convert_dicom_to_jpg(directory):\n",
        "    im = dicom.dcmread(source_path + directory)\n",
        "    im = im.pixel_array.astype(float)\n",
        "    rescaled_image = (np.maximum(im,0)/im.max())*255\n",
        "    final_image = np.uint8(rescaled_image)\n",
        "    final_image = Image.fromarray(final_image)\n",
        "    return final_image"
      ],
      "metadata": {
        "id": "1pRWGc2hiPQK"
      },
      "execution_count": 21,
      "outputs": []
    },
    {
      "cell_type": "markdown",
      "source": [
        "## EXTRACT METADATA FROM DICOM"
      ],
      "metadata": {
        "id": "99mm5HaSnM3N"
      }
    },
    {
      "cell_type": "code",
      "source": [
        "def extract_metadata(directory):\n",
        "    read_meta = dicom.filereader.dcmread(source_path + directory, stop_before_pixels=True)\n",
        "    return read_meta"
      ],
      "metadata": {
        "id": "755LI_5Jw-0j"
      },
      "execution_count": 22,
      "outputs": []
    },
    {
      "cell_type": "markdown",
      "source": [
        "#### Function to store extracted metadata into dictionary"
      ],
      "metadata": {
        "id": "JjeyRSghnUUA"
      }
    },
    {
      "cell_type": "code",
      "source": [
        "def dictify(ds):\n",
        "    output = dict()\n",
        "    for elem in ds:\n",
        "        if elem.VR != 'SQ': \n",
        "            output[elem.tag] = elem.value\n",
        "        else:\n",
        "            output[elem.tag] = [dictify(item) for item in elem]\n",
        "    return output"
      ],
      "metadata": {
        "id": "7bXp6DPL4LQr"
      },
      "execution_count": 23,
      "outputs": []
    },
    {
      "cell_type": "markdown",
      "source": [
        "## SAVING EXTRACTED DATA FROM DICOM FILES"
      ],
      "metadata": {
        "id": "3iNPxLsllp8J"
      }
    },
    {
      "cell_type": "code",
      "source": [
        "for name in lst_filename:\n",
        "\n",
        "### Saving extracted images into jpg files\n",
        "    image = convert_dicom_to_jpg(name)\n",
        "    image.save(output_path_jpg + name + '.jpg')\n",
        "\n",
        "### Saving extracted metadata into json files\n",
        "    metadata = []\n",
        "    ds = extract_metadata(name)\n",
        "    metadata.append(dictify(ds))\n",
        "    # converting list into dataframes\n",
        "    list_to_df = pd.DataFrame(metadata)\n",
        "    list_to_df.to_json(output_path_metadata + name + \".json\")"
      ],
      "metadata": {
        "colab": {
          "base_uri": "https://localhost:8080/"
        },
        "id": "vX-2KhMLw_ry",
        "outputId": "e3fff15b-4eac-4c33-940e-2118b9f85cfa"
      },
      "execution_count": 24,
      "outputs": [
        {
          "output_type": "stream",
          "name": "stderr",
          "text": [
            "/usr/local/lib/python3.8/dist-packages/pydicom/valuerep.py:290: UserWarning: Invalid value for VR UI: '00549655.13133668.40240308.01533809.96759950'. Please see <https://dicom.nema.org/medical/dicom/current/output/html/part05.html#table_6.2-1> for allowed values for each VR.\n",
            "  warnings.warn(msg)\n",
            "/usr/local/lib/python3.8/dist-packages/pydicom/valuerep.py:290: UserWarning: Invalid value for VR UI: '01653294.16050324.26197516.53414655.27366954'. Please see <https://dicom.nema.org/medical/dicom/current/output/html/part05.html#table_6.2-1> for allowed values for each VR.\n",
            "  warnings.warn(msg)\n",
            "/usr/local/lib/python3.8/dist-packages/pydicom/valuerep.py:290: UserWarning: Invalid value for VR UI: '75302434.00924580.45990863.56777941.87838844'. Please see <https://dicom.nema.org/medical/dicom/current/output/html/part05.html#table_6.2-1> for allowed values for each VR.\n",
            "  warnings.warn(msg)\n",
            "/usr/local/lib/python3.8/dist-packages/pydicom/valuerep.py:290: UserWarning: Invalid value for VR UI: '87906044.70381019.90896247.95734613.08332995'. Please see <https://dicom.nema.org/medical/dicom/current/output/html/part05.html#table_6.2-1> for allowed values for each VR.\n",
            "  warnings.warn(msg)\n",
            "/usr/local/lib/python3.8/dist-packages/pydicom/valuerep.py:290: UserWarning: Invalid value for VR UI: '93260728.81121459.31140456.08836682.40680114'. Please see <https://dicom.nema.org/medical/dicom/current/output/html/part05.html#table_6.2-1> for allowed values for each VR.\n",
            "  warnings.warn(msg)\n",
            "/usr/local/lib/python3.8/dist-packages/pydicom/valuerep.py:290: UserWarning: Invalid value for VR UI: '32266669.43443768.06864945.35339906.81542399'. Please see <https://dicom.nema.org/medical/dicom/current/output/html/part05.html#table_6.2-1> for allowed values for each VR.\n",
            "  warnings.warn(msg)\n",
            "/usr/local/lib/python3.8/dist-packages/pydicom/valuerep.py:290: UserWarning: Invalid value for VR UI: '00315870.83800121.55893672.15099295.72850224'. Please see <https://dicom.nema.org/medical/dicom/current/output/html/part05.html#table_6.2-1> for allowed values for each VR.\n",
            "  warnings.warn(msg)\n",
            "/usr/local/lib/python3.8/dist-packages/pydicom/valuerep.py:290: UserWarning: Invalid value for VR UI: '73802409.99613156.32615417.06493256.48176914'. Please see <https://dicom.nema.org/medical/dicom/current/output/html/part05.html#table_6.2-1> for allowed values for each VR.\n",
            "  warnings.warn(msg)\n",
            "/usr/local/lib/python3.8/dist-packages/pydicom/valuerep.py:290: UserWarning: Invalid value for VR UI: '26972701.37939238.15724898.01746922.97869176'. Please see <https://dicom.nema.org/medical/dicom/current/output/html/part05.html#table_6.2-1> for allowed values for each VR.\n",
            "  warnings.warn(msg)\n",
            "/usr/local/lib/python3.8/dist-packages/pydicom/valuerep.py:290: UserWarning: Invalid value for VR UI: '37927481.51201592.38431525.14300394.05627661'. Please see <https://dicom.nema.org/medical/dicom/current/output/html/part05.html#table_6.2-1> for allowed values for each VR.\n",
            "  warnings.warn(msg)\n",
            "/usr/local/lib/python3.8/dist-packages/pydicom/valuerep.py:290: UserWarning: Invalid value for VR UI: '08569335.47847827.66504522.66777998.15377216'. Please see <https://dicom.nema.org/medical/dicom/current/output/html/part05.html#table_6.2-1> for allowed values for each VR.\n",
            "  warnings.warn(msg)\n",
            "/usr/local/lib/python3.8/dist-packages/pydicom/valuerep.py:290: UserWarning: Invalid value for VR UI: '11864124.05973624.07385707.93843262.30833033'. Please see <https://dicom.nema.org/medical/dicom/current/output/html/part05.html#table_6.2-1> for allowed values for each VR.\n",
            "  warnings.warn(msg)\n",
            "/usr/local/lib/python3.8/dist-packages/pydicom/valuerep.py:290: UserWarning: Invalid value for VR UI: '04363791.49392136.45366070.69930947.06908118'. Please see <https://dicom.nema.org/medical/dicom/current/output/html/part05.html#table_6.2-1> for allowed values for each VR.\n",
            "  warnings.warn(msg)\n",
            "/usr/local/lib/python3.8/dist-packages/pydicom/valuerep.py:290: UserWarning: Invalid value for VR UI: '36906660.68166702.12536138.89165954.07350390'. Please see <https://dicom.nema.org/medical/dicom/current/output/html/part05.html#table_6.2-1> for allowed values for each VR.\n",
            "  warnings.warn(msg)\n",
            "/usr/local/lib/python3.8/dist-packages/pydicom/valuerep.py:290: UserWarning: Invalid value for VR UI: '65502040.52890503.04982095.70571265.19583150'. Please see <https://dicom.nema.org/medical/dicom/current/output/html/part05.html#table_6.2-1> for allowed values for each VR.\n",
            "  warnings.warn(msg)\n",
            "/usr/local/lib/python3.8/dist-packages/pydicom/valuerep.py:290: UserWarning: Invalid value for VR UI: '88038826.02940674.74559620.86342125.01977809'. Please see <https://dicom.nema.org/medical/dicom/current/output/html/part05.html#table_6.2-1> for allowed values for each VR.\n",
            "  warnings.warn(msg)\n",
            "/usr/local/lib/python3.8/dist-packages/pydicom/valuerep.py:290: UserWarning: Invalid value for VR UI: '69623600.35356994.06234781.74966567.26430135'. Please see <https://dicom.nema.org/medical/dicom/current/output/html/part05.html#table_6.2-1> for allowed values for each VR.\n",
            "  warnings.warn(msg)\n",
            "/usr/local/lib/python3.8/dist-packages/pydicom/valuerep.py:290: UserWarning: Invalid value for VR UI: '06677281.91949539.71953122.00853150.10303109'. Please see <https://dicom.nema.org/medical/dicom/current/output/html/part05.html#table_6.2-1> for allowed values for each VR.\n",
            "  warnings.warn(msg)\n",
            "/usr/local/lib/python3.8/dist-packages/pydicom/valuerep.py:290: UserWarning: Invalid value for VR UI: '64017173.42569595.21008723.28007723.04763893'. Please see <https://dicom.nema.org/medical/dicom/current/output/html/part05.html#table_6.2-1> for allowed values for each VR.\n",
            "  warnings.warn(msg)\n",
            "/usr/local/lib/python3.8/dist-packages/pydicom/valuerep.py:290: UserWarning: Invalid value for VR UI: '18303965.95761379.07064692.05723792.15744745'. Please see <https://dicom.nema.org/medical/dicom/current/output/html/part05.html#table_6.2-1> for allowed values for each VR.\n",
            "  warnings.warn(msg)\n"
          ]
        }
      ]
    }
  ]
}
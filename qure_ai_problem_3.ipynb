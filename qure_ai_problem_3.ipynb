{
  "nbformat": 4,
  "nbformat_minor": 0,
  "metadata": {
    "colab": {
      "provenance": [],
      "mount_file_id": "1juvMWjUJWZD13AGuq5loL8qSXux7OXv_",
      "authorship_tag": "ABX9TyOMoyQ4mknH55I8a9O3tXLz",
      "include_colab_link": true
    },
    "kernelspec": {
      "name": "python3",
      "display_name": "Python 3"
    },
    "language_info": {
      "name": "python"
    }
  },
  "cells": [
    {
      "cell_type": "markdown",
      "metadata": {
        "id": "view-in-github",
        "colab_type": "text"
      },
      "source": [
        "<a href=\"https://colab.research.google.com/github/AbhiRishi96/qure_ai_problems/blob/main/qure_ai_problem_3.ipynb\" target=\"_parent\"><img src=\"https://colab.research.google.com/assets/colab-badge.svg\" alt=\"Open In Colab\"/></a>"
      ]
    },
    {
      "cell_type": "code",
      "source": [
        "!git clone https://github.com/AbhiRishi96/qure_ai_problems.git"
      ],
      "metadata": {
        "id": "iA1af-2XTDxm",
        "outputId": "6df1d213-f500-4d19-919b-d2f1759800e7",
        "colab": {
          "base_uri": "https://localhost:8080/"
        }
      },
      "execution_count": 1,
      "outputs": [
        {
          "output_type": "stream",
          "name": "stdout",
          "text": [
            "Cloning into 'qure_ai_problems'...\n",
            "remote: Enumerating objects: 208, done.\u001b[K\n",
            "remote: Counting objects: 100% (126/126), done.\u001b[K\n",
            "remote: Compressing objects: 100% (77/77), done.\u001b[K\n",
            "remote: Total 208 (delta 50), reused 93 (delta 43), pack-reused 82\u001b[K\n",
            "Receiving objects: 100% (208/208), 200.96 MiB | 25.71 MiB/s, done.\n",
            "Resolving deltas: 100% (65/65), done.\n",
            "Checking out files: 100% (125/125), done.\n"
          ]
        }
      ]
    },
    {
      "cell_type": "markdown",
      "source": [
        "## INSTALL AND IMPORT REQUIRED LIBRARIES"
      ],
      "metadata": {
        "id": "TZjkUzBfw429"
      }
    },
    {
      "cell_type": "code",
      "source": [
        "!pip install PyMuPDF Pillow\n",
        "!pip install easyocr"
      ],
      "metadata": {
        "id": "eMvMhbIQvazj"
      },
      "execution_count": null,
      "outputs": []
    },
    {
      "cell_type": "code",
      "source": [
        "import fitz\n",
        "import io\n",
        "import pandas as pd\n",
        "from PIL import Image\n",
        "import PIL\n",
        "from PIL import ImageDraw\n",
        "import easyocr"
      ],
      "metadata": {
        "id": "qF5YHBgPGcyf"
      },
      "execution_count": 3,
      "outputs": []
    },
    {
      "cell_type": "code",
      "source": [
        "reader = easyocr.Reader(['en'], gpu = True)"
      ],
      "metadata": {
        "colab": {
          "base_uri": "https://localhost:8080/"
        },
        "id": "bggat7VCENW8",
        "outputId": "8408528c-7fdf-41fa-b14b-435be8433c13"
      },
      "execution_count": 4,
      "outputs": [
        {
          "output_type": "stream",
          "name": "stderr",
          "text": [
            "WARNING:easyocr.easyocr:CUDA not available - defaulting to CPU. Note: This module is much faster with a GPU.\n",
            "WARNING:easyocr.easyocr:Downloading detection model, please wait. This may take several minutes depending upon your network connection.\n"
          ]
        },
        {
          "output_type": "stream",
          "name": "stdout",
          "text": [
            "Progress: |██████████████████████████████████████████████████| 100.0% Complete"
          ]
        },
        {
          "output_type": "stream",
          "name": "stderr",
          "text": [
            "WARNING:easyocr.easyocr:Downloading recognition model, please wait. This may take several minutes depending upon your network connection.\n"
          ]
        },
        {
          "output_type": "stream",
          "name": "stdout",
          "text": [
            "Progress: |██████████████████████████████████████████████████| 100.0% Complete"
          ]
        }
      ]
    },
    {
      "cell_type": "markdown",
      "source": [
        "## Extracting image from pdf"
      ],
      "metadata": {
        "id": "5NA06gT3xOrg"
      }
    },
    {
      "cell_type": "code",
      "source": [
        "file = \"/content/qure_ai_problems/Problem_3/input/Data_Eng_assignment.pdf\""
      ],
      "metadata": {
        "id": "00YpYcCnp2j9"
      },
      "execution_count": 5,
      "outputs": []
    },
    {
      "cell_type": "code",
      "source": [
        "pdf_file = fitz.open(file)\n",
        "page_index = 2    # image is present at only this page in the document\n",
        "page = pdf_file[page_index]\n",
        "image_li = page.get_images()\n",
        "#printing number of images found in this page\n",
        "#page index starts from 0 hence adding 1 to its content\n",
        "if image_li:\n",
        "    print(f\"[+] Found a total of {len(image_li)} images in page {page_index+1}\")\n",
        "else:\n",
        "    print(f\"[!] No images found on page {page_index+1}\")\n",
        "for image_index, img in enumerate(page.get_images(), start=1):\n",
        "    #get the XREF of the image\n",
        "    xref = img[0]\n",
        "    #extract the image bytes\n",
        "    base_image = pdf_file.extract_image(xref)\n",
        "    image_bytes = base_image[\"image\"]\n",
        "    #get the image extension\n",
        "    image_ext = base_image[\"ext\"]\n",
        "    #load it to PIL\n",
        "    image = Image.open(io.BytesIO(image_bytes))\n",
        "    #save it to local disk\n",
        "    image.save(open(f\"/content/qure_ai_problems/Problem_3/output/\" + \"extracted_image.png\", \"wb\"))"
      ],
      "metadata": {
        "colab": {
          "base_uri": "https://localhost:8080/"
        },
        "id": "EXkxnrzOgYQC",
        "outputId": "1fa8ae82-82c2-4a4a-a9ab-1e0f56b43711"
      },
      "execution_count": 7,
      "outputs": [
        {
          "output_type": "stream",
          "name": "stdout",
          "text": [
            "[+] Found a total of 1 images in page 3\n"
          ]
        }
      ]
    },
    {
      "cell_type": "markdown",
      "source": [
        "## EXTRACTING TEXT FROM IMAGE"
      ],
      "metadata": {
        "id": "4OAs-NLGI8-k"
      }
    },
    {
      "cell_type": "code",
      "source": [
        "path_to_image = '/content/qure_ai_problems/Problem_3/output/extracted_image.png'"
      ],
      "metadata": {
        "id": "i0Qcml-PSFi2"
      },
      "execution_count": 8,
      "outputs": []
    },
    {
      "cell_type": "code",
      "source": [
        "### EXTRACT AND STORE TEXT INTO PANDAS DATAFRAME\n",
        "extract_text = reader.readtext(path_to_image, detail = 0)\n",
        "df_extracted_text = pd.DataFrame(extract_text)"
      ],
      "metadata": {
        "id": "Ldpxj2HGGsaV"
      },
      "execution_count": 9,
      "outputs": []
    },
    {
      "cell_type": "markdown",
      "source": [
        "#### DATA CLEANING"
      ],
      "metadata": {
        "id": "Vi6mzeuDBbru"
      }
    },
    {
      "cell_type": "code",
      "source": [
        "### TO KEEP ONLY REQUIRED VALUES (i.e. DATA PRESENT IN RED BOX IN THE IMAGE)\n",
        "df_extracted_text = df_extracted_text.iloc[27:52]"
      ],
      "metadata": {
        "id": "MYKk7w1PWbpJ"
      },
      "execution_count": 10,
      "outputs": []
    },
    {
      "cell_type": "code",
      "source": [
        "### RENAMING AND DELETING WRONG INTERPRETED DATA\n",
        "df_extracted_text = df_extracted_text.replace({'#ITaxable': '#/Taxable',\n",
        "                                               'Test Product _': 'Test Product 2 (Service)',\n",
        "                                               '(Service': '1',\n",
        "                                               'P1ooo': 'P1000',\n",
        "                                               'Test Product': 'Test Product 1'})\n",
        "df_extracted_text = df_extracted_text.drop([45])"
      ],
      "metadata": {
        "id": "nbj15-ZK5W28"
      },
      "execution_count": 11,
      "outputs": []
    },
    {
      "cell_type": "code",
      "source": [
        "### ADDING BACK MISSING DATA FROM THE IMAGE\n",
        "df_extracted_text.loc[40.5] = '1'\n",
        "df_extracted_text.loc[44.5] = '1'\n",
        "df_extracted_text.loc[49.5] = '1'\n",
        "df_extracted_text = df_extracted_text.sort_index().reset_index(drop = True)"
      ],
      "metadata": {
        "id": "AqUdxunnAP0G"
      },
      "execution_count": 12,
      "outputs": []
    },
    {
      "cell_type": "code",
      "source": [
        "### SAVING EXTRACTED DATA FROM IMAGE INTO EXCEL FILE\n",
        "df_extracted_text.to_excel(f'/content/qure_ai_problems/Problem_3/output/' + 'text_from_image.xlsx', index = False, header = False)"
      ],
      "metadata": {
        "id": "jG_cydIVWofK"
      },
      "execution_count": 13,
      "outputs": []
    },
    {
      "cell_type": "code",
      "source": [
        "df_extracted_text"
      ],
      "metadata": {
        "colab": {
          "base_uri": "https://localhost:8080/",
          "height": 683
        },
        "id": "6Rclm2TR7748",
        "outputId": "593d1147-b232-4615-f6c5-b160d51727a3"
      },
      "execution_count": 14,
      "outputs": [
        {
          "output_type": "execute_result",
          "data": {
            "text/plain": [
              "                               0\n",
              "0                           PO #\n",
              "1                Sales Rep: Name\n",
              "2                      Ship Date\n",
              "3                       Ship Via\n",
              "4                          Terms\n",
              "5                       Due Date\n",
              "6                      3/18/2015\n",
              "7                      #/Taxable\n",
              "8                    Description\n",
              "9                       Quantity\n",
              "10                    Unit Price\n",
              "11                    Line Total\n",
              "12                         P1002\n",
              "13  Test Product 3 (Non-taxable)\n",
              "14                             1\n",
              "15                        300.00\n",
              "16                        300.00\n",
              "17                         P1001\n",
              "18      Test Product 2 (Service)\n",
              "19                             1\n",
              "20                        200.00\n",
              "21                        200.00\n",
              "22                         P1000\n",
              "23                Test Product 1\n",
              "24                             1\n",
              "25                        100.00\n",
              "26                        100.00"
            ],
            "text/html": [
              "\n",
              "  <div id=\"df-c8ec19a5-5683-434c-9c0f-a0b5a4c346ac\">\n",
              "    <div class=\"colab-df-container\">\n",
              "      <div>\n",
              "<style scoped>\n",
              "    .dataframe tbody tr th:only-of-type {\n",
              "        vertical-align: middle;\n",
              "    }\n",
              "\n",
              "    .dataframe tbody tr th {\n",
              "        vertical-align: top;\n",
              "    }\n",
              "\n",
              "    .dataframe thead th {\n",
              "        text-align: right;\n",
              "    }\n",
              "</style>\n",
              "<table border=\"1\" class=\"dataframe\">\n",
              "  <thead>\n",
              "    <tr style=\"text-align: right;\">\n",
              "      <th></th>\n",
              "      <th>0</th>\n",
              "    </tr>\n",
              "  </thead>\n",
              "  <tbody>\n",
              "    <tr>\n",
              "      <th>0</th>\n",
              "      <td>PO #</td>\n",
              "    </tr>\n",
              "    <tr>\n",
              "      <th>1</th>\n",
              "      <td>Sales Rep: Name</td>\n",
              "    </tr>\n",
              "    <tr>\n",
              "      <th>2</th>\n",
              "      <td>Ship Date</td>\n",
              "    </tr>\n",
              "    <tr>\n",
              "      <th>3</th>\n",
              "      <td>Ship Via</td>\n",
              "    </tr>\n",
              "    <tr>\n",
              "      <th>4</th>\n",
              "      <td>Terms</td>\n",
              "    </tr>\n",
              "    <tr>\n",
              "      <th>5</th>\n",
              "      <td>Due Date</td>\n",
              "    </tr>\n",
              "    <tr>\n",
              "      <th>6</th>\n",
              "      <td>3/18/2015</td>\n",
              "    </tr>\n",
              "    <tr>\n",
              "      <th>7</th>\n",
              "      <td>#/Taxable</td>\n",
              "    </tr>\n",
              "    <tr>\n",
              "      <th>8</th>\n",
              "      <td>Description</td>\n",
              "    </tr>\n",
              "    <tr>\n",
              "      <th>9</th>\n",
              "      <td>Quantity</td>\n",
              "    </tr>\n",
              "    <tr>\n",
              "      <th>10</th>\n",
              "      <td>Unit Price</td>\n",
              "    </tr>\n",
              "    <tr>\n",
              "      <th>11</th>\n",
              "      <td>Line Total</td>\n",
              "    </tr>\n",
              "    <tr>\n",
              "      <th>12</th>\n",
              "      <td>P1002</td>\n",
              "    </tr>\n",
              "    <tr>\n",
              "      <th>13</th>\n",
              "      <td>Test Product 3 (Non-taxable)</td>\n",
              "    </tr>\n",
              "    <tr>\n",
              "      <th>14</th>\n",
              "      <td>1</td>\n",
              "    </tr>\n",
              "    <tr>\n",
              "      <th>15</th>\n",
              "      <td>300.00</td>\n",
              "    </tr>\n",
              "    <tr>\n",
              "      <th>16</th>\n",
              "      <td>300.00</td>\n",
              "    </tr>\n",
              "    <tr>\n",
              "      <th>17</th>\n",
              "      <td>P1001</td>\n",
              "    </tr>\n",
              "    <tr>\n",
              "      <th>18</th>\n",
              "      <td>Test Product 2 (Service)</td>\n",
              "    </tr>\n",
              "    <tr>\n",
              "      <th>19</th>\n",
              "      <td>1</td>\n",
              "    </tr>\n",
              "    <tr>\n",
              "      <th>20</th>\n",
              "      <td>200.00</td>\n",
              "    </tr>\n",
              "    <tr>\n",
              "      <th>21</th>\n",
              "      <td>200.00</td>\n",
              "    </tr>\n",
              "    <tr>\n",
              "      <th>22</th>\n",
              "      <td>P1000</td>\n",
              "    </tr>\n",
              "    <tr>\n",
              "      <th>23</th>\n",
              "      <td>Test Product 1</td>\n",
              "    </tr>\n",
              "    <tr>\n",
              "      <th>24</th>\n",
              "      <td>1</td>\n",
              "    </tr>\n",
              "    <tr>\n",
              "      <th>25</th>\n",
              "      <td>100.00</td>\n",
              "    </tr>\n",
              "    <tr>\n",
              "      <th>26</th>\n",
              "      <td>100.00</td>\n",
              "    </tr>\n",
              "  </tbody>\n",
              "</table>\n",
              "</div>\n",
              "      <button class=\"colab-df-convert\" onclick=\"convertToInteractive('df-c8ec19a5-5683-434c-9c0f-a0b5a4c346ac')\"\n",
              "              title=\"Convert this dataframe to an interactive table.\"\n",
              "              style=\"display:none;\">\n",
              "        \n",
              "  <svg xmlns=\"http://www.w3.org/2000/svg\" height=\"24px\"viewBox=\"0 0 24 24\"\n",
              "       width=\"24px\">\n",
              "    <path d=\"M0 0h24v24H0V0z\" fill=\"none\"/>\n",
              "    <path d=\"M18.56 5.44l.94 2.06.94-2.06 2.06-.94-2.06-.94-.94-2.06-.94 2.06-2.06.94zm-11 1L8.5 8.5l.94-2.06 2.06-.94-2.06-.94L8.5 2.5l-.94 2.06-2.06.94zm10 10l.94 2.06.94-2.06 2.06-.94-2.06-.94-.94-2.06-.94 2.06-2.06.94z\"/><path d=\"M17.41 7.96l-1.37-1.37c-.4-.4-.92-.59-1.43-.59-.52 0-1.04.2-1.43.59L10.3 9.45l-7.72 7.72c-.78.78-.78 2.05 0 2.83L4 21.41c.39.39.9.59 1.41.59.51 0 1.02-.2 1.41-.59l7.78-7.78 2.81-2.81c.8-.78.8-2.07 0-2.86zM5.41 20L4 18.59l7.72-7.72 1.47 1.35L5.41 20z\"/>\n",
              "  </svg>\n",
              "      </button>\n",
              "      \n",
              "  <style>\n",
              "    .colab-df-container {\n",
              "      display:flex;\n",
              "      flex-wrap:wrap;\n",
              "      gap: 12px;\n",
              "    }\n",
              "\n",
              "    .colab-df-convert {\n",
              "      background-color: #E8F0FE;\n",
              "      border: none;\n",
              "      border-radius: 50%;\n",
              "      cursor: pointer;\n",
              "      display: none;\n",
              "      fill: #1967D2;\n",
              "      height: 32px;\n",
              "      padding: 0 0 0 0;\n",
              "      width: 32px;\n",
              "    }\n",
              "\n",
              "    .colab-df-convert:hover {\n",
              "      background-color: #E2EBFA;\n",
              "      box-shadow: 0px 1px 2px rgba(60, 64, 67, 0.3), 0px 1px 3px 1px rgba(60, 64, 67, 0.15);\n",
              "      fill: #174EA6;\n",
              "    }\n",
              "\n",
              "    [theme=dark] .colab-df-convert {\n",
              "      background-color: #3B4455;\n",
              "      fill: #D2E3FC;\n",
              "    }\n",
              "\n",
              "    [theme=dark] .colab-df-convert:hover {\n",
              "      background-color: #434B5C;\n",
              "      box-shadow: 0px 1px 3px 1px rgba(0, 0, 0, 0.15);\n",
              "      filter: drop-shadow(0px 1px 2px rgba(0, 0, 0, 0.3));\n",
              "      fill: #FFFFFF;\n",
              "    }\n",
              "  </style>\n",
              "\n",
              "      <script>\n",
              "        const buttonEl =\n",
              "          document.querySelector('#df-c8ec19a5-5683-434c-9c0f-a0b5a4c346ac button.colab-df-convert');\n",
              "        buttonEl.style.display =\n",
              "          google.colab.kernel.accessAllowed ? 'block' : 'none';\n",
              "\n",
              "        async function convertToInteractive(key) {\n",
              "          const element = document.querySelector('#df-c8ec19a5-5683-434c-9c0f-a0b5a4c346ac');\n",
              "          const dataTable =\n",
              "            await google.colab.kernel.invokeFunction('convertToInteractive',\n",
              "                                                     [key], {});\n",
              "          if (!dataTable) return;\n",
              "\n",
              "          const docLinkHtml = 'Like what you see? Visit the ' +\n",
              "            '<a target=\"_blank\" href=https://colab.research.google.com/notebooks/data_table.ipynb>data table notebook</a>'\n",
              "            + ' to learn more about interactive tables.';\n",
              "          element.innerHTML = '';\n",
              "          dataTable['output_type'] = 'display_data';\n",
              "          await google.colab.output.renderOutput(dataTable, element);\n",
              "          const docLink = document.createElement('div');\n",
              "          docLink.innerHTML = docLinkHtml;\n",
              "          element.appendChild(docLink);\n",
              "        }\n",
              "      </script>\n",
              "    </div>\n",
              "  </div>\n",
              "  "
            ]
          },
          "metadata": {},
          "execution_count": 14
        }
      ]
    }
  ]
}